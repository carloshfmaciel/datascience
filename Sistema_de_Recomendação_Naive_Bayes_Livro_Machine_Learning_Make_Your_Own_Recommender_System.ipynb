{
  "nbformat": 4,
  "nbformat_minor": 0,
  "metadata": {
    "colab": {
      "name": "Sistema de Recomendação - Naive Bayes - Livro Machine Learning - Make Your Own Recommender System.ipynb",
      "provenance": [],
      "collapsed_sections": [],
      "authorship_tag": "ABX9TyNVmeDDVm9jYcRCsGU/S/MS",
      "include_colab_link": true
    },
    "kernelspec": {
      "name": "python3",
      "display_name": "Python 3"
    }
  },
  "cells": [
    {
      "cell_type": "markdown",
      "metadata": {
        "id": "view-in-github",
        "colab_type": "text"
      },
      "source": [
        "<a href=\"https://colab.research.google.com/github/carloshfmaciel/datascience/blob/master/Sistema_de_Recomenda%C3%A7%C3%A3o_Naive_Bayes_Livro_Machine_Learning_Make_Your_Own_Recommender_System.ipynb\" target=\"_parent\"><img src=\"https://colab.research.google.com/assets/colab-badge.svg\" alt=\"Open In Colab\"/></a>"
      ]
    },
    {
      "cell_type": "markdown",
      "metadata": {
        "id": "bAH-5fD3Zj6s",
        "colab_type": "text"
      },
      "source": [
        "## Recomendando Livros - Filtragem Colaborativa baseada em usuários\n",
        "\n"
      ]
    },
    {
      "cell_type": "markdown",
      "metadata": {
        "id": "ZHO97ZmAa4nP",
        "colab_type": "text"
      },
      "source": [
        "## Introdução"
      ]
    },
    {
      "cell_type": "markdown",
      "metadata": {
        "id": "NLjyPjZBa2RN",
        "colab_type": "text"
      },
      "source": [
        "Esse notebook tem o objetivo de consolidar através do exercício e explanação detalhada o conteúdo do exercício Recommending Books do livro Machine Learning: **Make Your Own Recommender System** de **Oliver Theobald**, que pode ser adquirido em livrarias virtuais como a Amazon."
      ]
    },
    {
      "cell_type": "markdown",
      "metadata": {
        "id": "YKW26sqna7wF",
        "colab_type": "text"
      },
      "source": [
        "## Objetivo"
      ]
    },
    {
      "cell_type": "markdown",
      "metadata": {
        "id": "xHFj3I_haGZs",
        "colab_type": "text"
      },
      "source": [
        "Criar um Sistema de recomendação de anúncios online, onde o anúncio é exibido para o usuário baseado em outros usuários que possuem atributos similares ao usuário alvo, atributos estes que incluem: **tempo diário gasto no site, idade, renda e tempo de uso diário de internet**.\n",
        "\n",
        "Baseado nesses atributos, o sistema deverá dizer SIM ou NAO, se deve ou não ser exibido ou não um anúncio, baseado se outros usuários similares, clicaram ou não quando um anúncio foi exibido."
      ]
    },
    {
      "cell_type": "markdown",
      "metadata": {
        "id": "lv671kv0cRVy",
        "colab_type": "text"
      },
      "source": [
        "## Qual técnica de análise iremos usar?"
      ]
    },
    {
      "cell_type": "markdown",
      "metadata": {
        "id": "YHQWTc5Zca-p",
        "colab_type": "text"
      },
      "source": [
        "Quando temos um dataset pouco esparso, como é o dataset dessa análise, o mais indicado é usar **Naive Bayes** ou **Regressão Logística**.\n",
        "\n",
        "Nessa análise estaremos usando **Naive Bayes**, que é um algoritmo que resulta do seu cálculo um operador lógico(TRUE ou FALSE, 1 ou 0).\n",
        "\n",
        "Como nossa análise se responde com SIM ou NÃO, ou seja, se devemos ou não exibir um anúncio para um determinado usuário, tal algoritmo atende ao propósito."
      ]
    },
    {
      "cell_type": "markdown",
      "metadata": {
        "id": "nPs9MjObdL_-",
        "colab_type": "text"
      },
      "source": [
        "## Dataset"
      ]
    },
    {
      "cell_type": "markdown",
      "metadata": {
        "id": "QHlb_G7DdQ-x",
        "colab_type": "text"
      },
      "source": [
        "O dataset utilizado neste exercício fora coletado do Kaggle em https://www.kaggle.com/fayomi/advertising/data/?select=advertising.csv.\n",
        "\n",
        "Esse dataset possui atributos de usuários referente ao **tempo uso de internet, tempo no site, idade, renda** e se o **mesmo clicou ou não no anúncio**."
      ]
    },
    {
      "cell_type": "markdown",
      "metadata": {
        "id": "KrLOG8FceHUf",
        "colab_type": "text"
      },
      "source": [
        "## Codificando"
      ]
    },
    {
      "cell_type": "code",
      "metadata": {
        "id": "YF0CIFTlpOeB",
        "colab_type": "code",
        "colab": {}
      },
      "source": [
        "# imports necessários\n",
        "import pandas as pd\n",
        "from sklearn.naive_bayes import GaussianNB"
      ],
      "execution_count": 0,
      "outputs": []
    },
    {
      "cell_type": "markdown",
      "metadata": {
        "id": "AQSZAmWieQN9",
        "colab_type": "text"
      },
      "source": [
        "Importando os dados e exibindo uma prévia do mesmos"
      ]
    },
    {
      "cell_type": "code",
      "metadata": {
        "id": "qY7AXEobpYyS",
        "colab_type": "code",
        "outputId": "7aebb2c0-5b58-4449-e0bd-76758c14260c",
        "colab": {
          "base_uri": "https://localhost:8080/",
          "height": 306
        }
      },
      "source": [
        "# load dataset\n",
        "df = pd.read_csv('https://dl.dropboxusercontent.com/s/8lvrgxqb36xkj6o/advertising.csv?dl=0')\n",
        "\n",
        "df.head()"
      ],
      "execution_count": 4,
      "outputs": [
        {
          "output_type": "execute_result",
          "data": {
            "text/html": [
              "<div>\n",
              "<style scoped>\n",
              "    .dataframe tbody tr th:only-of-type {\n",
              "        vertical-align: middle;\n",
              "    }\n",
              "\n",
              "    .dataframe tbody tr th {\n",
              "        vertical-align: top;\n",
              "    }\n",
              "\n",
              "    .dataframe thead th {\n",
              "        text-align: right;\n",
              "    }\n",
              "</style>\n",
              "<table border=\"1\" class=\"dataframe\">\n",
              "  <thead>\n",
              "    <tr style=\"text-align: right;\">\n",
              "      <th></th>\n",
              "      <th>Daily Time Spent on Site</th>\n",
              "      <th>Age</th>\n",
              "      <th>Area Income</th>\n",
              "      <th>Daily Internet Usage</th>\n",
              "      <th>Ad Topic Line</th>\n",
              "      <th>City</th>\n",
              "      <th>Male</th>\n",
              "      <th>Country</th>\n",
              "      <th>Timestamp</th>\n",
              "      <th>Clicked on Ad</th>\n",
              "    </tr>\n",
              "  </thead>\n",
              "  <tbody>\n",
              "    <tr>\n",
              "      <th>0</th>\n",
              "      <td>68.95</td>\n",
              "      <td>35</td>\n",
              "      <td>61833.90</td>\n",
              "      <td>256.09</td>\n",
              "      <td>Cloned 5thgeneration orchestration</td>\n",
              "      <td>Wrightburgh</td>\n",
              "      <td>0</td>\n",
              "      <td>Tunisia</td>\n",
              "      <td>2016-03-27 00:53:11</td>\n",
              "      <td>0</td>\n",
              "    </tr>\n",
              "    <tr>\n",
              "      <th>1</th>\n",
              "      <td>80.23</td>\n",
              "      <td>31</td>\n",
              "      <td>68441.85</td>\n",
              "      <td>193.77</td>\n",
              "      <td>Monitored national standardization</td>\n",
              "      <td>West Jodi</td>\n",
              "      <td>1</td>\n",
              "      <td>Nauru</td>\n",
              "      <td>2016-04-04 01:39:02</td>\n",
              "      <td>0</td>\n",
              "    </tr>\n",
              "    <tr>\n",
              "      <th>2</th>\n",
              "      <td>69.47</td>\n",
              "      <td>26</td>\n",
              "      <td>59785.94</td>\n",
              "      <td>236.50</td>\n",
              "      <td>Organic bottom-line service-desk</td>\n",
              "      <td>Davidton</td>\n",
              "      <td>0</td>\n",
              "      <td>San Marino</td>\n",
              "      <td>2016-03-13 20:35:42</td>\n",
              "      <td>0</td>\n",
              "    </tr>\n",
              "    <tr>\n",
              "      <th>3</th>\n",
              "      <td>74.15</td>\n",
              "      <td>29</td>\n",
              "      <td>54806.18</td>\n",
              "      <td>245.89</td>\n",
              "      <td>Triple-buffered reciprocal time-frame</td>\n",
              "      <td>West Terrifurt</td>\n",
              "      <td>1</td>\n",
              "      <td>Italy</td>\n",
              "      <td>2016-01-10 02:31:19</td>\n",
              "      <td>0</td>\n",
              "    </tr>\n",
              "    <tr>\n",
              "      <th>4</th>\n",
              "      <td>68.37</td>\n",
              "      <td>35</td>\n",
              "      <td>73889.99</td>\n",
              "      <td>225.58</td>\n",
              "      <td>Robust logistical utilization</td>\n",
              "      <td>South Manuel</td>\n",
              "      <td>0</td>\n",
              "      <td>Iceland</td>\n",
              "      <td>2016-06-03 03:36:18</td>\n",
              "      <td>0</td>\n",
              "    </tr>\n",
              "  </tbody>\n",
              "</table>\n",
              "</div>"
            ],
            "text/plain": [
              "   Daily Time Spent on Site  Age  ...            Timestamp  Clicked on Ad\n",
              "0                     68.95   35  ...  2016-03-27 00:53:11              0\n",
              "1                     80.23   31  ...  2016-04-04 01:39:02              0\n",
              "2                     69.47   26  ...  2016-03-13 20:35:42              0\n",
              "3                     74.15   29  ...  2016-01-10 02:31:19              0\n",
              "4                     68.37   35  ...  2016-06-03 03:36:18              0\n",
              "\n",
              "[5 rows x 10 columns]"
            ]
          },
          "metadata": {
            "tags": []
          },
          "execution_count": 4
        }
      ]
    },
    {
      "cell_type": "markdown",
      "metadata": {
        "id": "fKTb-tVleXTJ",
        "colab_type": "text"
      },
      "source": [
        "### Limpando os dados"
      ]
    },
    {
      "cell_type": "markdown",
      "metadata": {
        "id": "txpacFeTecSN",
        "colab_type": "text"
      },
      "source": [
        "O algoritmo somente trabalha com variáveis numéricas/contínuas, portanto iremos remover do nosso dataset variáveis categóricas/texto."
      ]
    },
    {
      "cell_type": "code",
      "metadata": {
        "id": "4VmiO8IhqUxo",
        "colab_type": "code",
        "colab": {}
      },
      "source": [
        "# removendo variáveis categóricas e discretas\n",
        "del df['Ad Topic Line']\n",
        "del df['Timestamp']\n",
        "del df['City']\n",
        "del df['Country']\n",
        "del df['Male']"
      ],
      "execution_count": 0,
      "outputs": []
    },
    {
      "cell_type": "markdown",
      "metadata": {
        "id": "MbKOj07gfX7e",
        "colab_type": "text"
      },
      "source": [
        "Extraindo agora o **X**(variáveis independentes/explanatórias) que serão todos os atributos exceto nossa classe que é o atributo Clicked on Ad e o **Y**(variável de resposta/dependente) que no caso é o atributo que diz se o usuário clicou ou não no anúncio, atributo: Clicked on Ad."
      ]
    },
    {
      "cell_type": "code",
      "metadata": {
        "id": "ST_HWvT_qs3r",
        "colab_type": "code",
        "colab": {}
      },
      "source": [
        "# Variável explanatória/independente\n",
        "# extrair todas as colunas(axis=1), exceto a variável 'Clicked on Ad' que é a variável de resposta ou y\n",
        "X = df.drop('Clicked on Ad', axis=1)\n",
        "\n",
        "# extraindo a variável de resposta\n",
        "y = df['Clicked on Ad']"
      ],
      "execution_count": 0,
      "outputs": []
    },
    {
      "cell_type": "markdown",
      "metadata": {
        "id": "ShSyXkrgf2Yq",
        "colab_type": "text"
      },
      "source": [
        "Treinando nosso modelo:"
      ]
    },
    {
      "cell_type": "code",
      "metadata": {
        "id": "OYDxU5rNrZik",
        "colab_type": "code",
        "outputId": "015e1ee0-a5e9-4c7f-8ab9-4968925241f5",
        "colab": {
          "base_uri": "https://localhost:8080/",
          "height": 34
        }
      },
      "source": [
        "# criando o modelo\n",
        "model = GaussianNB()\n",
        "\n",
        "# treinando o modelo\n",
        "model.fit(X, y)"
      ],
      "execution_count": 0,
      "outputs": [
        {
          "output_type": "execute_result",
          "data": {
            "text/plain": [
              "GaussianNB(priors=None, var_smoothing=1e-09)"
            ]
          },
          "metadata": {
            "tags": []
          },
          "execution_count": 6
        }
      ]
    },
    {
      "cell_type": "markdown",
      "metadata": {
        "id": "zJWFfYKZf7JI",
        "colab_type": "text"
      },
      "source": [
        "Executando um simples teste, simulamos aqui os dados de um usuário e informamos para o modelo prever se esse usuário clicaria  ou não no anúncio, ou seja, se devemos exibir o anúncio ou não para o mesmo.\n",
        "\n",
        "Baseado nesses atributos em comparação com os dados do nosso dataset, o modelo previu que sim(resultado: 1), o usuário clicaria no anúncio e que portanto deveríamos exibir para o mesmo."
      ]
    },
    {
      "cell_type": "code",
      "metadata": {
        "id": "jFSNuXy7rs0D",
        "colab_type": "code",
        "outputId": "9ecad8b0-fd8e-468e-d409-09103aa6f9d2",
        "colab": {
          "base_uri": "https://localhost:8080/",
          "height": 34
        }
      },
      "source": [
        "# Daily Time Spent on Site: 66 minutes\n",
        "# Age: 48 years\n",
        "# Area Income: 24593.3\n",
        "# Daily Internet Usage: 131.76 minutes\n",
        "target_user = [66.00, 48, 24593.3, 131.76]\n",
        "\n",
        "prediction = model.predict([target_user])\n",
        "\n",
        "print('Perdiction: ', prediction)"
      ],
      "execution_count": 0,
      "outputs": [
        {
          "output_type": "stream",
          "text": [
            "Perdiction:  [1]\n"
          ],
          "name": "stdout"
        }
      ]
    },
    {
      "cell_type": "markdown",
      "metadata": {
        "id": "YUcIwK81h2AE",
        "colab_type": "text"
      },
      "source": [
        "## Sobre Mim"
      ]
    },
    {
      "cell_type": "markdown",
      "metadata": {
        "id": "_sOAajTUh5lD",
        "colab_type": "text"
      },
      "source": [
        "Carlos Maciel trabalha com desenvolvimento de software há 12 anos, tendo atuado em diversos projetos em empresas pública e privadas, incluindo também o setor financeiro.\n",
        "\n",
        "Atualmente, como Tech Lead na Superbid, tem implementado soluções de data science visando o aumento de valor de vendas no Superbid Marketplace.\n",
        "\n",
        "**Contatos**:<br>\n",
        "Email: carloshfmaciel@gmail.com<br>\n",
        "Linkedin: https://www.linkedin.com/in/carloshfmaciel/"
      ]
    }
  ]
}