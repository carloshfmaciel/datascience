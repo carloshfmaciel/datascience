{
  "nbformat": 4,
  "nbformat_minor": 0,
  "metadata": {
    "colab": {
      "name": "Sistema de Recomendação - Nearest Neighboors- Livro Machine Learning - Make Your Own Recommender System.ipynb",
      "provenance": [],
      "collapsed_sections": [],
      "authorship_tag": "ABX9TyNceKQx/DAXR4KOMXRfr87N",
      "include_colab_link": true
    },
    "kernelspec": {
      "name": "python3",
      "display_name": "Python 3"
    }
  },
  "cells": [
    {
      "cell_type": "markdown",
      "metadata": {
        "id": "view-in-github",
        "colab_type": "text"
      },
      "source": [
        "<a href=\"https://colab.research.google.com/github/carloshfmaciel/datascience/blob/master/Sistema_de_Recomenda%C3%A7%C3%A3o_Nearest_Neighboors_Livro_Machine_Learning_Make_Your_Own_Recommender_System.ipynb\" target=\"_parent\"><img src=\"https://colab.research.google.com/assets/colab-badge.svg\" alt=\"Open In Colab\"/></a>"
      ]
    },
    {
      "cell_type": "markdown",
      "metadata": {
        "id": "bAH-5fD3Zj6s",
        "colab_type": "text"
      },
      "source": [
        "## Recomendando Livros - Filtragem Colaborativa baseada em conteúdo\n",
        "\n"
      ]
    },
    {
      "cell_type": "markdown",
      "metadata": {
        "id": "ZHO97ZmAa4nP",
        "colab_type": "text"
      },
      "source": [
        "## Introdução"
      ]
    },
    {
      "cell_type": "markdown",
      "metadata": {
        "id": "NLjyPjZBa2RN",
        "colab_type": "text"
      },
      "source": [
        "Esse notebook tem o objetivo de consolidar através do exercício e explanação detalhada o conteúdo do exercício Recommending Books do livro Machine Learning: **Make Your Own Recommender System** de **Oliver Theobald**, que pode ser adquirido em livrarias virtuais como a Amazon."
      ]
    },
    {
      "cell_type": "markdown",
      "metadata": {
        "colab_type": "text",
        "id": "BCKsDNz9g_Fm"
      },
      "source": [
        "## Objetivo"
      ]
    },
    {
      "cell_type": "markdown",
      "metadata": {
        "id": "EGRbRn4khB62",
        "colab_type": "text"
      },
      "source": [
        "Criar um sistema de recomendação imobilário, que baseado nos atributos do imóvel desejado por um usuário, recomendar os mais similares."
      ]
    },
    {
      "cell_type": "markdown",
      "metadata": {
        "id": "6uXV5LHBhd4-",
        "colab_type": "text"
      },
      "source": [
        "## Qual técnica iremos usar?"
      ]
    },
    {
      "cell_type": "markdown",
      "metadata": {
        "id": "n-AsIaE3hf45",
        "colab_type": "text"
      },
      "source": [
        "Como queremos encontrar similares, iremos usar o algoritmo Neirest Neighbors. "
      ]
    },
    {
      "cell_type": "markdown",
      "metadata": {
        "id": "MtSangC4hyin",
        "colab_type": "text"
      },
      "source": [
        "## Dataset"
      ]
    },
    {
      "cell_type": "markdown",
      "metadata": {
        "id": "53WVNf6Eh0U9",
        "colab_type": "text"
      },
      "source": [
        "O dataset utilizado neste exercício fora coletado do Kaggle em https://www.kaggle.com/anthonypino/melbourne-housing-market/.\n",
        "\n",
        "Esse dataset se refere á imóveis á venda em Melbourn(Australia) e possui os atributos dos mesmos tais como: **price, bedrooms, bathrooms, year built** and etc..."
      ]
    },
    {
      "cell_type": "markdown",
      "metadata": {
        "id": "4uz4muELiix7",
        "colab_type": "text"
      },
      "source": [
        "## Codificando"
      ]
    },
    {
      "cell_type": "code",
      "metadata": {
        "id": "nUXojBxQ-qcw",
        "colab_type": "code",
        "colab": {}
      },
      "source": [
        "import pandas as pd\n",
        "from sklearn.neighbors import NearestNeighbors"
      ],
      "execution_count": 0,
      "outputs": []
    },
    {
      "cell_type": "markdown",
      "metadata": {
        "id": "rqfhUv61ilud",
        "colab_type": "text"
      },
      "source": [
        "Importando os dados e exibindo uma prévia do mesmos"
      ]
    },
    {
      "cell_type": "code",
      "metadata": {
        "id": "3DTZ8EeQ_PaI",
        "colab_type": "code",
        "outputId": "bc5dcf43-c557-435e-e2f2-7e27f0c7d252",
        "colab": {
          "base_uri": "https://localhost:8080/",
          "height": 326
        }
      },
      "source": [
        "df = pd.read_csv('https://dl.dropboxusercontent.com/s/adghhhdl0ufl66z/Melbourne_housing_FULL.csv?dl=0')\n",
        "\n",
        "df.head()"
      ],
      "execution_count": 0,
      "outputs": [
        {
          "output_type": "execute_result",
          "data": {
            "text/html": [
              "<div>\n",
              "<style scoped>\n",
              "    .dataframe tbody tr th:only-of-type {\n",
              "        vertical-align: middle;\n",
              "    }\n",
              "\n",
              "    .dataframe tbody tr th {\n",
              "        vertical-align: top;\n",
              "    }\n",
              "\n",
              "    .dataframe thead th {\n",
              "        text-align: right;\n",
              "    }\n",
              "</style>\n",
              "<table border=\"1\" class=\"dataframe\">\n",
              "  <thead>\n",
              "    <tr style=\"text-align: right;\">\n",
              "      <th></th>\n",
              "      <th>Suburb</th>\n",
              "      <th>Address</th>\n",
              "      <th>Rooms</th>\n",
              "      <th>Type</th>\n",
              "      <th>Price</th>\n",
              "      <th>Method</th>\n",
              "      <th>SellerG</th>\n",
              "      <th>Date</th>\n",
              "      <th>Distance</th>\n",
              "      <th>Postcode</th>\n",
              "      <th>Bedroom2</th>\n",
              "      <th>Bathroom</th>\n",
              "      <th>Car</th>\n",
              "      <th>Landsize</th>\n",
              "      <th>BuildingArea</th>\n",
              "      <th>YearBuilt</th>\n",
              "      <th>CouncilArea</th>\n",
              "      <th>Lattitude</th>\n",
              "      <th>Longtitude</th>\n",
              "      <th>Regionname</th>\n",
              "      <th>Propertycount</th>\n",
              "    </tr>\n",
              "  </thead>\n",
              "  <tbody>\n",
              "    <tr>\n",
              "      <th>0</th>\n",
              "      <td>Abbotsford</td>\n",
              "      <td>68 Studley St</td>\n",
              "      <td>2</td>\n",
              "      <td>h</td>\n",
              "      <td>NaN</td>\n",
              "      <td>SS</td>\n",
              "      <td>Jellis</td>\n",
              "      <td>3/09/2016</td>\n",
              "      <td>2.5</td>\n",
              "      <td>3067.0</td>\n",
              "      <td>2.0</td>\n",
              "      <td>1.0</td>\n",
              "      <td>1.0</td>\n",
              "      <td>126.0</td>\n",
              "      <td>NaN</td>\n",
              "      <td>NaN</td>\n",
              "      <td>Yarra City Council</td>\n",
              "      <td>-37.8014</td>\n",
              "      <td>144.9958</td>\n",
              "      <td>Northern Metropolitan</td>\n",
              "      <td>4019.0</td>\n",
              "    </tr>\n",
              "    <tr>\n",
              "      <th>1</th>\n",
              "      <td>Abbotsford</td>\n",
              "      <td>85 Turner St</td>\n",
              "      <td>2</td>\n",
              "      <td>h</td>\n",
              "      <td>1480000.0</td>\n",
              "      <td>S</td>\n",
              "      <td>Biggin</td>\n",
              "      <td>3/12/2016</td>\n",
              "      <td>2.5</td>\n",
              "      <td>3067.0</td>\n",
              "      <td>2.0</td>\n",
              "      <td>1.0</td>\n",
              "      <td>1.0</td>\n",
              "      <td>202.0</td>\n",
              "      <td>NaN</td>\n",
              "      <td>NaN</td>\n",
              "      <td>Yarra City Council</td>\n",
              "      <td>-37.7996</td>\n",
              "      <td>144.9984</td>\n",
              "      <td>Northern Metropolitan</td>\n",
              "      <td>4019.0</td>\n",
              "    </tr>\n",
              "    <tr>\n",
              "      <th>2</th>\n",
              "      <td>Abbotsford</td>\n",
              "      <td>25 Bloomburg St</td>\n",
              "      <td>2</td>\n",
              "      <td>h</td>\n",
              "      <td>1035000.0</td>\n",
              "      <td>S</td>\n",
              "      <td>Biggin</td>\n",
              "      <td>4/02/2016</td>\n",
              "      <td>2.5</td>\n",
              "      <td>3067.0</td>\n",
              "      <td>2.0</td>\n",
              "      <td>1.0</td>\n",
              "      <td>0.0</td>\n",
              "      <td>156.0</td>\n",
              "      <td>79.0</td>\n",
              "      <td>1900.0</td>\n",
              "      <td>Yarra City Council</td>\n",
              "      <td>-37.8079</td>\n",
              "      <td>144.9934</td>\n",
              "      <td>Northern Metropolitan</td>\n",
              "      <td>4019.0</td>\n",
              "    </tr>\n",
              "    <tr>\n",
              "      <th>3</th>\n",
              "      <td>Abbotsford</td>\n",
              "      <td>18/659 Victoria St</td>\n",
              "      <td>3</td>\n",
              "      <td>u</td>\n",
              "      <td>NaN</td>\n",
              "      <td>VB</td>\n",
              "      <td>Rounds</td>\n",
              "      <td>4/02/2016</td>\n",
              "      <td>2.5</td>\n",
              "      <td>3067.0</td>\n",
              "      <td>3.0</td>\n",
              "      <td>2.0</td>\n",
              "      <td>1.0</td>\n",
              "      <td>0.0</td>\n",
              "      <td>NaN</td>\n",
              "      <td>NaN</td>\n",
              "      <td>Yarra City Council</td>\n",
              "      <td>-37.8114</td>\n",
              "      <td>145.0116</td>\n",
              "      <td>Northern Metropolitan</td>\n",
              "      <td>4019.0</td>\n",
              "    </tr>\n",
              "    <tr>\n",
              "      <th>4</th>\n",
              "      <td>Abbotsford</td>\n",
              "      <td>5 Charles St</td>\n",
              "      <td>3</td>\n",
              "      <td>h</td>\n",
              "      <td>1465000.0</td>\n",
              "      <td>SP</td>\n",
              "      <td>Biggin</td>\n",
              "      <td>4/03/2017</td>\n",
              "      <td>2.5</td>\n",
              "      <td>3067.0</td>\n",
              "      <td>3.0</td>\n",
              "      <td>2.0</td>\n",
              "      <td>0.0</td>\n",
              "      <td>134.0</td>\n",
              "      <td>150.0</td>\n",
              "      <td>1900.0</td>\n",
              "      <td>Yarra City Council</td>\n",
              "      <td>-37.8093</td>\n",
              "      <td>144.9944</td>\n",
              "      <td>Northern Metropolitan</td>\n",
              "      <td>4019.0</td>\n",
              "    </tr>\n",
              "  </tbody>\n",
              "</table>\n",
              "</div>"
            ],
            "text/plain": [
              "       Suburb             Address  ...             Regionname Propertycount\n",
              "0  Abbotsford       68 Studley St  ...  Northern Metropolitan        4019.0\n",
              "1  Abbotsford        85 Turner St  ...  Northern Metropolitan        4019.0\n",
              "2  Abbotsford     25 Bloomburg St  ...  Northern Metropolitan        4019.0\n",
              "3  Abbotsford  18/659 Victoria St  ...  Northern Metropolitan        4019.0\n",
              "4  Abbotsford        5 Charles St  ...  Northern Metropolitan        4019.0\n",
              "\n",
              "[5 rows x 21 columns]"
            ]
          },
          "metadata": {
            "tags": []
          },
          "execution_count": 4
        }
      ]
    },
    {
      "cell_type": "markdown",
      "metadata": {
        "id": "nkKG28COAN8q",
        "colab_type": "text"
      },
      "source": [
        "Temos um dataset de 34857 linhas e 21 colunas"
      ]
    },
    {
      "cell_type": "code",
      "metadata": {
        "id": "xFIiWdj0AMmE",
        "colab_type": "code",
        "outputId": "95e78e61-8eed-4e95-b4e2-e49695b613e8",
        "colab": {
          "base_uri": "https://localhost:8080/",
          "height": 34
        }
      },
      "source": [
        "df.shape"
      ],
      "execution_count": 0,
      "outputs": [
        {
          "output_type": "execute_result",
          "data": {
            "text/plain": [
              "(34857, 21)"
            ]
          },
          "metadata": {
            "tags": []
          },
          "execution_count": 5
        }
      ]
    },
    {
      "cell_type": "markdown",
      "metadata": {
        "id": "nWfCU9G5_qbh",
        "colab_type": "text"
      },
      "source": [
        "Valores nulos/inextistentes não podem ser utilizados no algoritmo Nearest Neighbors. Portanto iremos deletar a linha que possuir qualquer uma das propriedades nulas."
      ]
    },
    {
      "cell_type": "code",
      "metadata": {
        "id": "Ok2QdlYz_c4C",
        "colab_type": "code",
        "colab": {}
      },
      "source": [
        "df.dropna(axis=0, how='any', thresh=None, subset=None, inplace=True)"
      ],
      "execution_count": 0,
      "outputs": []
    },
    {
      "cell_type": "markdown",
      "metadata": {
        "id": "ZVLPwZpyAXny",
        "colab_type": "text"
      },
      "source": [
        "Após a deleção de linhas com propriedades nulas, temos um novo dataset de 8887 linhas."
      ]
    },
    {
      "cell_type": "code",
      "metadata": {
        "id": "4N-l2QvCAVT9",
        "colab_type": "code",
        "outputId": "38346944-12df-43e8-fe8e-9845b7171414",
        "colab": {
          "base_uri": "https://localhost:8080/",
          "height": 34
        }
      },
      "source": [
        "df.shape"
      ],
      "execution_count": 0,
      "outputs": [
        {
          "output_type": "execute_result",
          "data": {
            "text/plain": [
              "(8887, 21)"
            ]
          },
          "metadata": {
            "tags": []
          },
          "execution_count": 9
        }
      ]
    },
    {
      "cell_type": "markdown",
      "metadata": {
        "id": "ATYwimIJAyM9",
        "colab_type": "text"
      },
      "source": [
        "Como algoritmo **Nearest Neighbors trabalha apenas com valores numéricos(contínuos ou inteiros)**, devemos especificar quais propriedades do dataset serão os **input features** para o cálculo do algoritmo.\n",
        "\n",
        "Abaixo, as propriedades numéricas do dataset que serão utilizadas como parâmetro do algoritmo:\n",
        "\n",
        "![alt text](https://dl.dropboxusercontent.com/s/aiqemsqbqezekez/melbourne_properties_dataset.JPG?dl=0)"
      ]
    },
    {
      "cell_type": "code",
      "metadata": {
        "id": "kWUI9DCwAgrZ",
        "colab_type": "code",
        "colab": {}
      },
      "source": [
        "# Extraindo as propriedades numericas do dataset e definindo as mesmas como variáveis de explanatória, ou seja, X\n",
        "X = df.loc[:, ['Price', 'Distance', 'Bedroom2', 'Bathroom', 'Landsize', 'BuildingArea', 'YearBuilt']].values"
      ],
      "execution_count": 0,
      "outputs": []
    },
    {
      "cell_type": "markdown",
      "metadata": {
        "id": "PY5BzUg6CtXM",
        "colab_type": "text"
      },
      "source": [
        "Agora definimos as preferências do nosso usuário alvo(o usuário para o qual queremos recomendar imóveis), ou seja, as preferências referente as propriedades do imóvel desejado pelo mesmo. \n",
        "\n",
        "Lembrando que essas propriedades devem ser apenas aquelas definidas como variável explanatória, que será utilizada para o calculo de distância do Nearest Beighbors.\n",
        "\n",
        "Para este exemplo, vamos considerar que o nosso usuário está buscando um imóvel com as características abaixo:\n",
        "\n",
        "![](https://dl.dropboxusercontent.com/s/l5zkofxmh4tz92q/09.JPG?dl=0)"
      ]
    },
    {
      "cell_type": "code",
      "metadata": {
        "id": "DyB7a793ChoO",
        "colab_type": "code",
        "colab": {}
      },
      "source": [
        "# criando um array com as características do imóvel desejado pelo usuário\n",
        "target = [1350000, 2, 2, 2, 220, 200, 2005]"
      ],
      "execution_count": 0,
      "outputs": []
    },
    {
      "cell_type": "markdown",
      "metadata": {
        "id": "x6l2UISWEkTL",
        "colab_type": "text"
      },
      "source": [
        "Abaixo, treinamos nosso modelo com as variáveis independentes, ou seja X, obtidos do nosso dataset."
      ]
    },
    {
      "cell_type": "code",
      "metadata": {
        "id": "lkGbkEZWD83T",
        "colab_type": "code",
        "outputId": "f7655ef9-3bb4-4a10-851e-b525377b9077",
        "colab": {
          "base_uri": "https://localhost:8080/",
          "height": 68
        }
      },
      "source": [
        "model = NearestNeighbors(n_neighbors=3)\n",
        "model.fit(X)"
      ],
      "execution_count": 0,
      "outputs": [
        {
          "output_type": "execute_result",
          "data": {
            "text/plain": [
              "NearestNeighbors(algorithm='auto', leaf_size=30, metric='minkowski',\n",
              "                 metric_params=None, n_jobs=None, n_neighbors=3, p=2,\n",
              "                 radius=1.0)"
            ]
          },
          "metadata": {
            "tags": []
          },
          "execution_count": 15
        }
      ]
    },
    {
      "cell_type": "markdown",
      "metadata": {
        "id": "C0WjmqYHEuGB",
        "colab_type": "text"
      },
      "source": [
        "E finalmente, passando as características do imóvel desejado pelo usuário, o modelo calcula e identifica o imóvel do dataset mais próximo daquilo que o usuário informou.\n",
        "\n",
        "O primeiro array informa a distância do target point(dados de imóvel que o usuário informou) para cada neighbor(registro com valores mais próximos que o usuário informou).\n",
        "\n",
        "O segundo array é a posição do neighbor(registro com valores mais próximos que o usuário informou), no dataset(base de dados de imóvel).\n",
        "\n",
        "Os valores dos arrays são ordenados do mais próximo para o mais distante, portanto aqui entendemos que o registro de imóvel que possui os valores mais próximos dos informado pelo usuário é o registro do índice 6.\n"
      ]
    },
    {
      "cell_type": "code",
      "metadata": {
        "id": "QLBfKB0REI-S",
        "colab_type": "code",
        "outputId": "9ce2136f-cb03-41e4-865b-1b77cfa82d3a",
        "colab": {
          "base_uri": "https://localhost:8080/",
          "height": 34
        }
      },
      "source": [
        "model.kneighbors([target])"
      ],
      "execution_count": 0,
      "outputs": [
        {
          "output_type": "execute_result",
          "data": {
            "text/plain": [
              "(array([[11.71537451, 17.12191578, 46.64643609]]), array([[   6, 3002, 6669]]))"
            ]
          },
          "metadata": {
            "tags": []
          },
          "execution_count": 17
        }
      ]
    },
    {
      "cell_type": "markdown",
      "metadata": {
        "id": "ycPwuOZRGdTk",
        "colab_type": "text"
      },
      "source": [
        "Abaixo, recuperando os dados de imóvel do registro na posição 6."
      ]
    },
    {
      "cell_type": "code",
      "metadata": {
        "id": "8HYXBy_lEPG7",
        "colab_type": "code",
        "outputId": "fbdb4c9a-0e52-475e-8d71-db90ee743f4d",
        "colab": {
          "base_uri": "https://localhost:8080/",
          "height": 391
        }
      },
      "source": [
        "df.iloc[6]"
      ],
      "execution_count": 0,
      "outputs": [
        {
          "output_type": "execute_result",
          "data": {
            "text/plain": [
              "Suburb                      Abbotsford\n",
              "Address                40 Nicholson St\n",
              "Rooms                                3\n",
              "Type                                 h\n",
              "Price                         1.35e+06\n",
              "Method                              VB\n",
              "SellerG                         Nelson\n",
              "Date                        12/11/2016\n",
              "Distance                           2.5\n",
              "Postcode                          3067\n",
              "Bedroom2                             3\n",
              "Bathroom                             2\n",
              "Car                                  2\n",
              "Landsize                           214\n",
              "BuildingArea                       190\n",
              "YearBuilt                         2005\n",
              "CouncilArea         Yarra City Council\n",
              "Lattitude                     -37.8085\n",
              "Longtitude                     144.996\n",
              "Regionname       Northern Metropolitan\n",
              "Propertycount                     4019\n",
              "Name: 24, dtype: object"
            ]
          },
          "metadata": {
            "tags": []
          },
          "execution_count": 18
        }
      ]
    },
    {
      "cell_type": "markdown",
      "metadata": {
        "id": "5FcIYO9_Go0g",
        "colab_type": "text"
      },
      "source": [
        "Encontramos assim no nosso dataset, os 3 imóveis **mais similares** com o imóvel informado pelo usuário. "
      ]
    },
    {
      "cell_type": "markdown",
      "metadata": {
        "id": "YUcIwK81h2AE",
        "colab_type": "text"
      },
      "source": [
        "## Sobre Mim"
      ]
    },
    {
      "cell_type": "markdown",
      "metadata": {
        "id": "_sOAajTUh5lD",
        "colab_type": "text"
      },
      "source": [
        "Carlos Maciel trabalha com desenvolvimento de software há 12 anos, tendo atuado em diversos projetos em empresas pública e privadas, incluindo também o setor financeiro.\n",
        "\n",
        "Atualmente, como Tech Lead na Superbid, tem implementado soluções de data science visando o aumento de valor de vendas no Superbid Marketplace.\n",
        "\n",
        "**Contatos**:<br>\n",
        "Email: carloshfmaciel@gmail.com<br>\n",
        "Linkedin: https://www.linkedin.com/in/carloshfmaciel/"
      ]
    }
  ]
}