{
  "nbformat": 4,
  "nbformat_minor": 0,
  "metadata": {
    "colab": {
      "name": "Sistemas de Recomendação.ipynb",
      "provenance": [],
      "collapsed_sections": []
    },
    "kernelspec": {
      "name": "python3",
      "display_name": "Python 3"
    }
  },
  "cells": [
    {
      "cell_type": "code",
      "metadata": {
        "id": "7iJGGASB3PQG",
        "colab": {
          "base_uri": "https://localhost:8080/",
          "height": 34
        },
        "outputId": "d90ef97d-e424-49f1-fdc7-6d2870f56d40"
      },
      "source": [
        "pow(3.5 - 4, 2)"
      ],
      "execution_count": null,
      "outputs": [
        {
          "output_type": "execute_result",
          "data": {
            "text/plain": [
              "0.25"
            ]
          },
          "metadata": {
            "tags": []
          },
          "execution_count": 28
        }
      ]
    },
    {
      "cell_type": "code",
      "metadata": {
        "id": "fQr_c8-83VwU",
        "colab": {
          "base_uri": "https://localhost:8080/",
          "height": 51
        },
        "outputId": "316850f5-d98a-4765-80b7-8b18f1e8fe13"
      },
      "source": [
        "from math import sqrt\n",
        "\n",
        "# Calculando a distancia entre Claudia e Ana\n",
        "distance = sqrt(pow(3 - 3, 2) + pow(3.5 - 4, 2))\n",
        "print('Distância/Similaridade entre Claúdia e Ana: ', distance)\n",
        "\n",
        "# Convertendo para percentual em uma escala de 0 e 1\n",
        "percentDistance = 1/(1+distance)\n",
        "print('Distância/Similaridade entre Cláudia e Ana - Percentual : ', percentDistance)"
      ],
      "execution_count": null,
      "outputs": [
        {
          "output_type": "stream",
          "text": [
            "Distância/Similaridade entre Claúdia e Ana:  0.5\n",
            "Distância/Similaridade entre Cláudia e Ana - Percentual :  0.6666666666666666\n"
          ],
          "name": "stdout"
        }
      ]
    },
    {
      "cell_type": "code",
      "metadata": {
        "id": "fcpWThaR5v_i",
        "colab": {
          "base_uri": "https://localhost:8080/",
          "height": 51
        },
        "outputId": "e5cdabe4-4be2-4ddf-da9a-41e0d170a6ba"
      },
      "source": [
        "# Calculando a distancia entre Marcos e Ana\n",
        "distance = sqrt(pow(3 - 1.5, 2) + pow(3.5 - 5, 2))\n",
        "print('Distância/Similaridade entre Marcos e Ana: ', distance)\n",
        "\n",
        "# Convertendo para percentual em uma escala de 0 e 1\n",
        "percentDistance = 1/(1+distance)\n",
        "print('Distância/Similaridade entre Marcos e Ana - Percentual : ', percentDistance)"
      ],
      "execution_count": null,
      "outputs": [
        {
          "output_type": "stream",
          "text": [
            "Distância/Similaridade entre Marcos e Ana:  2.1213203435596424\n",
            "Distância/Similaridade entre Marcos e Ana - Percentual :  0.32037724101704074\n"
          ],
          "name": "stdout"
        }
      ]
    },
    {
      "cell_type": "markdown",
      "metadata": {
        "id": "RHLYltpG6eks"
      },
      "source": [
        "### Dataset Usuários e Notas"
      ]
    },
    {
      "cell_type": "code",
      "metadata": {
        "id": "I-4oS_UJ6loV"
      },
      "source": [
        "avaliacoesUsuarios = {'Ana': \n",
        "\t\t{'Freddy x Jason': 2.5, \n",
        "\t\t 'O Ultimato Bourne': 3.5,\n",
        "\t\t 'Star Trek': 3.0, \n",
        "\t\t 'Exterminador do Futuro': 3.5, \n",
        "\t\t 'Norbit': 2.5, \n",
        "\t\t 'Star Wars': 3.0},\n",
        "\t \n",
        "\t  'Marcos': \n",
        "\t\t{'Freddy x Jason': 3.0, \n",
        "\t\t 'O Ultimato Bourne': 3.5, \n",
        "\t\t 'Star Trek': 1.5, \n",
        "\t\t 'Exterminador do Futuro': 5.0, \n",
        "\t\t 'Star Wars': 3.0, \n",
        "\t\t 'Norbit': 3.5}, \n",
        "\n",
        "\t  'Pedro': \n",
        "\t    {'Freddy x Jason': 2.5, \n",
        "\t\t 'O Ultimato Bourne': 3.0,\n",
        "\t\t 'Exterminador do Futuro': 3.5, \n",
        "\t\t 'Star Wars': 4.0},\n",
        "\t\t\t \n",
        "\t  'Claudia': \n",
        "\t\t{'O Ultimato Bourne': 3.5, \n",
        "\t\t 'Star Trek': 3.0,\n",
        "\t\t 'Star Wars': 4.5, \n",
        "\t\t 'Exterminador do Futuro': 4.0, \n",
        "\t\t 'Norbit': 2.5},\n",
        "\t\t\t\t \n",
        "\t  'Adriano': \n",
        "\t\t{'Freddy x Jason': 3.0, \n",
        "\t\t 'O Ultimato Bourne': 4.0, \n",
        "\t\t 'Star Trek': 2.0, \n",
        "\t\t 'Exterminador do Futuro': 3.0, \n",
        "\t\t 'Star Wars': 3.0,\n",
        "\t\t 'Norbit': 2.0}, \n",
        "\n",
        "\t  'Janaina': \n",
        "\t     {'Freddy x Jason': 3.0, \n",
        "\t      'O Ultimato Bourne': 4.0,\n",
        "\t      'Star Wars': 3.0, \n",
        "\t      'Exterminador do Futuro': 5.0, \n",
        "\t      'Norbit': 3.5},\n",
        "\t\t\t  \n",
        "\t  'Leonardo': \n",
        "\t    {'O Ultimato Bourne':4.5,\n",
        "             'Norbit':1.0,\n",
        "\t     'Exterminador do Futuro':4.0}\n",
        "}"
      ],
      "execution_count": null,
      "outputs": []
    },
    {
      "cell_type": "markdown",
      "metadata": {
        "id": "gVAKMDbd6G2j"
      },
      "source": [
        "### Função Euclidiana"
      ]
    },
    {
      "cell_type": "code",
      "metadata": {
        "id": "OKX-YLwd6IoJ"
      },
      "source": [
        "from math import sqrt\n",
        "\n",
        "def euclidiana(dataset, usuario1, usuario2):\n",
        "  si = {}\n",
        "  for item in dataset[usuario1]:\n",
        "    if item in dataset[usuario2]:\n",
        "      si[item] = 1\n",
        "\n",
        "  if len(si) == 0:\n",
        "    return 0\n",
        "\n",
        "  soma = sum([pow(dataset[usuario1][item] - dataset[usuario2][item], 2)\n",
        "              for item in dataset[usuario1]\n",
        "                if item in dataset[usuario2]])\n",
        "  \n",
        "  return 1/(1+sqrt(soma))"
      ],
      "execution_count": null,
      "outputs": []
    },
    {
      "cell_type": "markdown",
      "metadata": {
        "id": "qU490lea9WvV"
      },
      "source": [
        "### Similaridade entre Leonardo e Ana"
      ]
    },
    {
      "cell_type": "code",
      "metadata": {
        "id": "LRuHk8D_89_I",
        "colab": {
          "base_uri": "https://localhost:8080/",
          "height": 34
        },
        "outputId": "8adf7066-e4c0-43be-9e0b-54f0af09cb49"
      },
      "source": [
        "euclidiana(avaliacoesUsuarios, 'Leonardo', 'Ana')"
      ],
      "execution_count": null,
      "outputs": [
        {
          "output_type": "execute_result",
          "data": {
            "text/plain": [
              "0.3483314773547883"
            ]
          },
          "metadata": {
            "tags": []
          },
          "execution_count": 33
        }
      ]
    },
    {
      "cell_type": "markdown",
      "metadata": {
        "id": "KL67Rv-w9bsn"
      },
      "source": [
        "### Similaridade entre Marcos e Cláudia"
      ]
    },
    {
      "cell_type": "code",
      "metadata": {
        "id": "foTldB_q9oCJ",
        "colab": {
          "base_uri": "https://localhost:8080/",
          "height": 34
        },
        "outputId": "d36fe5c2-aafe-46c7-cc52-0148df5e1b85"
      },
      "source": [
        "euclidiana(avaliacoesUsuarios, 'Marcos', 'Claudia')"
      ],
      "execution_count": null,
      "outputs": [
        {
          "output_type": "execute_result",
          "data": {
            "text/plain": [
              "0.28172904669025317"
            ]
          },
          "metadata": {
            "tags": []
          },
          "execution_count": 34
        }
      ]
    },
    {
      "cell_type": "markdown",
      "metadata": {
        "id": "uEioZh_X9gu9"
      },
      "source": [
        "### Similiaridade entre Pedro e Marcos"
      ]
    },
    {
      "cell_type": "code",
      "metadata": {
        "id": "xYOuYQ0O9rJ8",
        "colab": {
          "base_uri": "https://localhost:8080/",
          "height": 34
        },
        "outputId": "ea29a9ff-5e6e-4607-dca8-b3bbb6a331a3"
      },
      "source": [
        "euclidiana(avaliacoesUsuarios, 'Pedro', 'Marcos')"
      ],
      "execution_count": null,
      "outputs": [
        {
          "output_type": "execute_result",
          "data": {
            "text/plain": [
              "0.3405424265831667"
            ]
          },
          "metadata": {
            "tags": []
          },
          "execution_count": 35
        }
      ]
    },
    {
      "cell_type": "markdown",
      "metadata": {
        "id": "SA0aPVTBWmC0"
      },
      "source": [
        "# Recomendação a partir de usuários similares"
      ]
    },
    {
      "cell_type": "markdown",
      "metadata": {
        "id": "2y4exVaa_Y4c"
      },
      "source": [
        "## Criando Função que retorna todos os usuario similares com o usuario informado no parâmetro\n"
      ]
    },
    {
      "cell_type": "code",
      "metadata": {
        "id": "ndf-_crl_lIt"
      },
      "source": [
        "# Retorna os usuários e percentual de similaridade, dos 30 primeiros usuários mais similares\n",
        "def getSimilares(dataset, usuario):\n",
        "  similaridade = [(euclidiana(dataset, usuario, outro), outro)\n",
        "                  for outro in dataset\n",
        "                    if outro != usuario]\n",
        "\n",
        "  similaridade.sort()\n",
        "  similaridade.reverse()\n",
        "\n",
        "  return similaridade[0:30]"
      ],
      "execution_count": null,
      "outputs": []
    },
    {
      "cell_type": "markdown",
      "metadata": {
        "id": "nD9xG6fxAkQf"
      },
      "source": [
        "### Verificando as similaridades do usuario Ana"
      ]
    },
    {
      "cell_type": "code",
      "metadata": {
        "id": "pRaY1MAaAr-M",
        "colab": {
          "base_uri": "https://localhost:8080/",
          "height": 119
        },
        "outputId": "826166b2-a5f0-4d8e-eba1-8e61269c5c54"
      },
      "source": [
        "# O usuário mais similar com a Ana é o Pedro com 47%\n",
        "getSimilares(avaliacoesUsuarios, 'Ana')"
      ],
      "execution_count": null,
      "outputs": [
        {
          "output_type": "execute_result",
          "data": {
            "text/plain": [
              "[(0.4721359549995794, 'Pedro'),\n",
              " (0.4142135623730951, 'Adriano'),\n",
              " (0.38742588672279304, 'Claudia'),\n",
              " (0.3483314773547883, 'Leonardo'),\n",
              " (0.3405424265831667, 'Janaina'),\n",
              " (0.29429805508554946, 'Marcos')]"
            ]
          },
          "metadata": {
            "tags": []
          },
          "execution_count": 37
        }
      ]
    },
    {
      "cell_type": "markdown",
      "metadata": {
        "id": "Nuo8rQZ3NhIA"
      },
      "source": [
        "## Recomendação baseada em usuários"
      ]
    },
    {
      "cell_type": "markdown",
      "metadata": {
        "id": "ou0CHu0Q_eir"
      },
      "source": [
        "### Função para obter as recomendações"
      ]
    },
    {
      "cell_type": "code",
      "metadata": {
        "id": "MZJ1gFpNQb8z"
      },
      "source": [
        "# 1 - Calcular a similaridade do usuário alvo com todos os demais\n",
        "# 2 - Multiplicar a similaridade pela nota dos demais usuários para cada filme que o usuário alvo não assistiu\n",
        "# 3 - Somar a similaridade dos demais usuários em relação ao usuário alvo para cada filme que os demais usuários deram nota e o usuário alvo não assistiu\n",
        "# 4 - Dividir o total de pesos(similaridade x nota) pelo total de similaridade\n",
        "# 5 - Retorna a lista de filmes(30 primeiros) que o usuário alvo não assistiu e as notas previstas que ele daria para cada filme\n",
        "\n",
        "def getRecomendacoesUsuario(dataset, usuario):\n",
        "  totais = {}\n",
        "  somaSimilaridade = {}\n",
        "\n",
        "  for outro in dataset:\n",
        "    if outro == usuario:\n",
        "      continue\n",
        "    else:\n",
        "      similaridade = euclidiana(dataset, usuario, outro)\n",
        "      if similaridade <= 0: \n",
        "        continue\n",
        "      for item in dataset[outro]:\n",
        "        if item not in dataset[usuario]:\n",
        "          totais.setdefault(item, 0)\n",
        "          totais[item] += dataset[outro][item] * similaridade\n",
        "          somaSimilaridade.setdefault(item, 0)\n",
        "          somaSimilaridade[item] += similaridade\n",
        "\n",
        "  rankings = [(total / somaSimilaridade[item], item) for item, total in totais.items()]\n",
        "  \n",
        "  rankings.sort()\n",
        "  rankings.reverse()\n",
        "\n",
        "  return rankings[0:30]"
      ],
      "execution_count": null,
      "outputs": []
    },
    {
      "cell_type": "markdown",
      "metadata": {
        "id": "xm9QTC8iVeNB"
      },
      "source": [
        "### Obtendo as recomendações de filmes que o Leonardo não assistiu"
      ]
    },
    {
      "cell_type": "code",
      "metadata": {
        "id": "6vFhcGlHUAg3",
        "colab": {
          "base_uri": "https://localhost:8080/",
          "height": 68
        },
        "outputId": "d0b7633a-30b8-4b05-cbdb-9a8d26cf277a"
      },
      "source": [
        "getRecomendacoesUsuario(avaliacoesUsuarios, 'Leonardo')"
      ],
      "execution_count": null,
      "outputs": [
        {
          "output_type": "execute_result",
          "data": {
            "text/plain": [
              "[(3.457128694491423, 'Star Wars'),\n",
              " (2.778584003814924, 'Freddy x Jason'),\n",
              " (2.422482042361917, 'Star Trek')]"
            ]
          },
          "metadata": {
            "tags": []
          },
          "execution_count": 39
        }
      ]
    },
    {
      "cell_type": "markdown",
      "metadata": {
        "id": "ogT4HHi_VkCE"
      },
      "source": [
        "### Obtendo as recomendações de filmes que o Pedro não assistiu"
      ]
    },
    {
      "cell_type": "code",
      "metadata": {
        "id": "b4wi95-vVm53",
        "colab": {
          "base_uri": "https://localhost:8080/",
          "height": 34
        },
        "outputId": "9c40d08e-00c5-4135-988d-40ac7a3432fe"
      },
      "source": [
        "getRecomendacoesUsuario(avaliacoesUsuarios, 'Pedro')"
      ],
      "execution_count": null,
      "outputs": [
        {
          "output_type": "execute_result",
          "data": {
            "text/plain": [
              "[(2.4825817086405517, 'Star Trek'), (2.453379230569188, 'Norbit')]"
            ]
          },
          "metadata": {
            "tags": []
          },
          "execution_count": 40
        }
      ]
    },
    {
      "cell_type": "markdown",
      "metadata": {
        "id": "skY27rcRWeFE"
      },
      "source": [
        "# Recomendação á partir de Filmes Similares"
      ]
    },
    {
      "cell_type": "markdown",
      "metadata": {
        "id": "JZGIJW78YVZJ"
      },
      "source": [
        "### Base de dados invertida"
      ]
    },
    {
      "cell_type": "code",
      "metadata": {
        "id": "rJIDh5ZrWwPx"
      },
      "source": [
        "avaliacoesFilmes = {'Freddy x Jason': \n",
        "\t\t{'Ana': 2.5, \n",
        "\t\t 'Marcos:': 3.0 ,\n",
        "\t\t 'Pedro': 2.5, \n",
        "\t\t 'Adriano': 3.0, \n",
        "\t\t 'Janaina': 3.0 },\n",
        "\t \n",
        "\t 'O Ultimato Bourne': \n",
        "\t\t{'Ana': 3.5, \n",
        "\t\t 'Marcos': 3.5,\n",
        "\t\t 'Pedro': 3.0, \n",
        "\t\t 'Claudia': 3.5, \n",
        "\t\t 'Adriano': 4.0, \n",
        "\t\t 'Janaina': 4.0,\n",
        "\t\t 'Leonardo': 4.5 },\n",
        "\t\t\t\t \n",
        "\t 'Star Trek': \n",
        "\t\t{'Ana': 3.0, \n",
        "\t\t 'Marcos:': 1.5,\n",
        "\t\t 'Claudia': 3.0, \n",
        "\t\t 'Adriano': 2.0 },\n",
        "\t\n",
        "\t 'Exterminador do Futuro': \n",
        "\t\t{'Ana': 3.5, \n",
        "\t\t 'Marcos:': 5.0 ,\n",
        "\t\t 'Pedro': 3.5, \n",
        "\t\t 'Claudia': 4.0, \n",
        "\t\t 'Adriano': 3.0, \n",
        "\t\t 'Janaina': 5.0,\n",
        "\t\t 'Leonardo': 4.0},\n",
        "\t\t\t\t \n",
        "\t 'Norbit': \n",
        "\t\t{'Ana': 2.5, \n",
        "\t\t 'Marcos:': 3.0 ,\n",
        "\t\t 'Claudia': 2.5, \n",
        "\t\t 'Adriano': 2.0, \n",
        "\t\t 'Janaina': 3.5,\n",
        "\t\t 'Leonardo': 1.0},\n",
        "\t\t\t\t \n",
        "\t 'Star Wars': \n",
        "\t\t{'Ana': 3.0, \n",
        "\t\t 'Marcos:': 3.5,\n",
        "\t\t 'Pedro': 4.0, \n",
        "\t\t 'Claudia': 4.5, \n",
        "\t\t 'Adriano': 3.0, \n",
        "\t\t 'Janaina': 3.0}\n",
        "}"
      ],
      "execution_count": null,
      "outputs": []
    },
    {
      "cell_type": "markdown",
      "metadata": {
        "id": "vBEDCoufZYb4"
      },
      "source": [
        "### Retorna os filmes mais similares em relação á nota"
      ]
    },
    {
      "cell_type": "code",
      "metadata": {
        "id": "jSFDv4DfYXhq",
        "colab": {
          "base_uri": "https://localhost:8080/",
          "height": 102
        },
        "outputId": "5c2e7085-cca3-4713-a420-ef87fc48d34a"
      },
      "source": [
        "getSimilares(avaliacoesFilmes, 'Star Wars')"
      ],
      "execution_count": null,
      "outputs": [
        {
          "output_type": "execute_result",
          "data": {
            "text/plain": [
              "[(0.3761785115301142, 'Freddy x Jason'),\n",
              " (0.3266316347104093, 'O Ultimato Bourne'),\n",
              " (0.29429805508554946, 'Norbit'),\n",
              " (0.27429188517743175, 'Exterminador do Futuro'),\n",
              " (0.2708131845707603, 'Star Trek')]"
            ]
          },
          "metadata": {
            "tags": []
          },
          "execution_count": 42
        }
      ]
    },
    {
      "cell_type": "markdown",
      "metadata": {
        "id": "77dxMGvaaBER"
      },
      "source": [
        "### Retorna pessoas que assistiram e deram notas para o filme informado\n",
        "\n",
        "Dessa forma, poderia ser enviado para essas pessoas, de repente um ingresso promocional para a pré estréia de um filme relacionado ou continuação do mesmo\n"
      ]
    },
    {
      "cell_type": "code",
      "metadata": {
        "id": "2qf0yDZXZXcX",
        "colab": {
          "base_uri": "https://localhost:8080/",
          "height": 34
        },
        "outputId": "9fd9d339-c769-4e25-8d35-fac93f048c5d"
      },
      "source": [
        "getRecomendacoesUsuario(avaliacoesFilmes, 'Star Wars')"
      ],
      "execution_count": null,
      "outputs": [
        {
          "output_type": "execute_result",
          "data": {
            "text/plain": [
              "[(3.4999999999999996, 'Marcos'), (3.196200842319029, 'Leonardo')]"
            ]
          },
          "metadata": {
            "tags": []
          },
          "execution_count": 43
        }
      ]
    },
    {
      "cell_type": "markdown",
      "metadata": {
        "id": "SCuPT_4EcaES"
      },
      "source": [
        "## Trabalhando com a base de dados Movielens"
      ]
    },
    {
      "cell_type": "code",
      "metadata": {
        "id": "NugFzL_Dcgx9"
      },
      "source": [
        "import pandas as pd\n",
        "\n",
        "# Carregando o dataset de filmes(arquivo u.item)\n",
        "dfMovies = pd.read_csv('https://dl.dropboxusercontent.com/s/2yyed2vbe9zt6j4/u.item.csv?dl=0', sep=\"|\", header=None, encoding =\"ISO-8859-1\")\n",
        "\n",
        "# Carregando o dataset de avaliação dos filmes(arquivo u.data)\n",
        "dfStars = pd.read_csv('https://dl.dropboxusercontent.com/s/fwdvlf13c3ob8h0/u.data?dl=0', sep=\"\\t\", header=None, encoding=\"ISO-8859-1\")\n",
        "\n",
        "# Carrega um dicionario estruturado com o usuario, os filmes que o mesmo avaliou e a nota que foi dada para cada um dos filmes \n",
        "def carregaMovieLens():\n",
        "  \n",
        "  filmes = {}\n",
        "  for index, row in dfMovies.iterrows():\n",
        "    (id, titulo) = row[0:2]\n",
        "    filmes[id] = titulo\n",
        "\n",
        "  base = {}\n",
        "  for index, row in dfStars.iterrows():\n",
        "    (id_usuario, id_filme, nota, tempo) = row[0:4]\n",
        "    base.setdefault(id_usuario, {})\n",
        "    base[id_usuario][filmes[id_filme]] = float(nota)\n",
        "\n",
        "  return base"
      ],
      "execution_count": null,
      "outputs": []
    },
    {
      "cell_type": "code",
      "metadata": {
        "id": "AupOimYXxF79"
      },
      "source": [
        "base = carregaMovieLens()"
      ],
      "execution_count": null,
      "outputs": []
    },
    {
      "cell_type": "code",
      "metadata": {
        "id": "CV1HavuxBy4x",
        "colab": {
          "base_uri": "https://localhost:8080/",
          "height": 527
        },
        "outputId": "c6e77ca6-6e6c-41ac-e12b-02801624ff83"
      },
      "source": [
        "# Retorna a lista de usuários mais similares e o percentual de similaridade(0 a 1) \n",
        "getSimilares(base, 212)"
      ],
      "execution_count": null,
      "outputs": [
        {
          "output_type": "execute_result",
          "data": {
            "text/plain": [
              "[(1.0, 915),\n",
              " (1.0, 866),\n",
              " (1.0, 856),\n",
              " (1.0, 850),\n",
              " (1.0, 849),\n",
              " (1.0, 837),\n",
              " (1.0, 820),\n",
              " (1.0, 818),\n",
              " (1.0, 809),\n",
              " (1.0, 808),\n",
              " (1.0, 801),\n",
              " (1.0, 770),\n",
              " (1.0, 759),\n",
              " (1.0, 722),\n",
              " (1.0, 612),\n",
              " (1.0, 596),\n",
              " (1.0, 584),\n",
              " (1.0, 583),\n",
              " (1.0, 580),\n",
              " (1.0, 575),\n",
              " (1.0, 572),\n",
              " (1.0, 547),\n",
              " (1.0, 544),\n",
              " (1.0, 529),\n",
              " (1.0, 519),\n",
              " (1.0, 478),\n",
              " (1.0, 461),\n",
              " (1.0, 431),\n",
              " (1.0, 427),\n",
              " (1.0, 412)]"
            ]
          },
          "metadata": {
            "tags": []
          },
          "execution_count": 46
        }
      ]
    },
    {
      "cell_type": "code",
      "metadata": {
        "id": "DhbGlc3ODWJV",
        "colab": {
          "base_uri": "https://localhost:8080/",
          "height": 527
        },
        "outputId": "ef588916-1279-41a1-86e7-d8977b205de2"
      },
      "source": [
        "# Retorna os 30 primeiros filmes que o usuario não assistiu e os filmes para os quais o sistema previu que ele daria as notas mais altas\n",
        "getRecomendacoesUsuario(base, 212)"
      ],
      "execution_count": null,
      "outputs": [
        {
          "output_type": "execute_result",
          "data": {
            "text/plain": [
              "[(5.0, 'They Made Me a Criminal (1939)'),\n",
              " (5.0, 'Star Kid (1997)'),\n",
              " (5.0, \"Someone Else's America (1995)\"),\n",
              " (5.0, 'Santa with Muscles (1996)'),\n",
              " (5.0, 'Saint of Fort Washington, The (1993)'),\n",
              " (5.0, 'Prefontaine (1997)'),\n",
              " (5.0, 'Marlene Dietrich: Shadow and Light (1996) '),\n",
              " (5.0, 'Great Day in Harlem, A (1994)'),\n",
              " (5.0, 'Entertaining Angels: The Dorothy Day Story (1996)'),\n",
              " (5.0, 'Aiqing wansui (1994)'),\n",
              " (4.678464513946264, 'Delta of Venus (1994)'),\n",
              " (4.669110773445877, 'Innocents, The (1961)'),\n",
              " (4.6679881166781785, 'Pather Panchali (1955)'),\n",
              " (4.643210827674669, 'Letter From Death Row, A (1998)'),\n",
              " (4.636191497550252, 'Maya Lin: A Strong Clear Vision (1994)'),\n",
              " (4.6151289598408765, 'Anna (1996)'),\n",
              " (4.558310593401602, \"Some Mother's Son (1996)\"),\n",
              " (4.493969532782648, 'Shawshank Redemption, The (1994)'),\n",
              " (4.481115124220606, 'Leading Man, The (1996)'),\n",
              " (4.45837363085848, 'For the Moment (1994)'),\n",
              " (4.457258689756284, 'Third Man, The (1949)'),\n",
              " (4.445996248823582, 'Casablanca (1942)'),\n",
              " (4.431685947747432, 'Everest (1998)'),\n",
              " (4.42978055610852, 'Bitter Sugar (Azucar Amargo) (1996)'),\n",
              " (4.407495008220233, 'Rear Window (1954)'),\n",
              " (4.4065569308647765, 'Usual Suspects, The (1995)'),\n",
              " (4.378592892105554, 'Golden Earrings (1947)'),\n",
              " (4.367916150868721, 'Close Shave, A (1995)'),\n",
              " (4.367825982472788, 'Magic Hour, The (1998)'),\n",
              " (4.367501452423068, 'Wallace & Gromit: The Best of Aardman Animation (1996)')]"
            ]
          },
          "metadata": {
            "tags": []
          },
          "execution_count": 47
        }
      ]
    },
    {
      "cell_type": "markdown",
      "metadata": {
        "id": "5JQOXtmXNI9N"
      },
      "source": [
        "## Recomendação de filmes baseada em itens"
      ]
    },
    {
      "cell_type": "markdown",
      "metadata": {
        "id": "A6NFMiw9aO7l"
      },
      "source": [
        "### Passo a passo do algoritmo de recomendação de filmes baseado em itens\n",
        "\n",
        "Para recomendar um filme para um usuário, no exemplo abaixo, Leonardo, iremos seguir os seguintes passos:\n",
        "\n",
        "1 - Identificar todos os filmes que ele assistiu.\n",
        "\n",
        "![alt text](https://dl.dropboxusercontent.com/s/0w96ggcmrvkheal/0001.png?dl=0)\n",
        "\n",
        "2 - Identificar todos os filmes que ele não assistiu.\n",
        "\n",
        "![alt text](https://dl.dropboxusercontent.com/s/tqo8obw5f8w4rxw/0002.PNG?dl=0)\n",
        "\n",
        "3 - Utilizando a já criada função getSimilares, iremos obter o percentual de similaridade que possui os filmes NÃO ASSISTIDOS em relação aos JÁ ASSISTIDOS.\n",
        "\n",
        "![alt text](https://dl.dropboxusercontent.com/s/9ooima1uqdmziqb/0003.png?dl=0)\n",
        "\n",
        "4 - Calcular a nota de similaridade de cada filme NÃO ASSISTIDO versus cada filme JÁ ASSISTIDO. \n",
        "<br>Fórmula: Nota do filme já assistido x o percentual de similaridade do filme não assistido\n",
        "\n",
        "![alt text](https://dl.dropboxusercontent.com/s/n0z3l1ujnlv63qu/0005.PNG?dl=0)\n",
        "\n",
        "5 - Fazer o somatório da coluna de percentual de similaridade de cada filme NÃO ASSISTIDO.\n",
        "\n",
        "![alt text](https://dl.dropboxusercontent.com/s/w60xt11qg9kwqwk/0006.PNG?dl=0)\n",
        "\n",
        "6 - Fazer o somatório da coluna de nota de similaridade de cada filme NÃO ASSISTIDO.\n",
        "\n",
        "![alt text](https://dl.dropboxusercontent.com/s/w3gvgfl66usqtrq/0007.PNG?dl=0)\n",
        "\n",
        "7 - Por fim, para cada filme NÃO ASSISTIDO, é calculado a NOTA ESTIMIDA do usuário Leonardo para cada filme NÃO ASSISTIDO: \n",
        "<br>Fórmula: somatória da nota de similaridade / somatória do percentual de similaridade\n",
        "\n",
        "![alt text](https://dl.dropboxusercontent.com/s/7frub5joynzscj2/0008.PNG?dl=0)\n",
        "\n",
        "\n",
        "\n",
        "\n",
        "\n",
        "\n",
        "\n"
      ]
    },
    {
      "cell_type": "code",
      "metadata": {
        "id": "2J1qEfycNPHB"
      },
      "source": [
        "# Calculando a similaridade de cada filme com todos os outros\n",
        "def calculaItensSimilares(base):\n",
        "  result = {}\n",
        "\n",
        "  for item in base:\n",
        "    notas = getSimilares(base, item)\n",
        "    result[item] = notas\n",
        "  \n",
        "  return result"
      ],
      "execution_count": null,
      "outputs": []
    },
    {
      "cell_type": "markdown",
      "metadata": {
        "id": "h-JuhU7UoDTa"
      },
      "source": [
        "Em um ambiente de produção, rodaríamos a função acima periodicamente(1 x por dia por exemplo) e carregaríamos os dados retornados em uma base de dados para as consultas. No exemplo abaixo, estamos carregando apenas em uma variável, denominada **itensSimilares** que será utilizada nos passos posteriores. "
      ]
    },
    {
      "cell_type": "code",
      "metadata": {
        "id": "okdjPJQJl7Ki"
      },
      "source": [
        "# Carregando a lista de similaridades entre os filmes\n",
        "itensSimilares = calculaItensSimilares(avaliacoesFilmes)"
      ],
      "execution_count": null,
      "outputs": []
    },
    {
      "cell_type": "code",
      "metadata": {
        "id": "Xj-IiZSkmCwb",
        "colab": {
          "base_uri": "https://localhost:8080/",
          "height": 527
        },
        "outputId": "98502136-0280-4226-e212-46cc0e75400f"
      },
      "source": [
        "itensSimilares"
      ],
      "execution_count": null,
      "outputs": [
        {
          "output_type": "execute_result",
          "data": {
            "text/plain": [
              "{'Exterminador do Futuro': [(0.3761785115301142, 'O Ultimato Bourne'),\n",
              "  (0.27429188517743175, 'Star Wars'),\n",
              "  (0.2402530733520421, 'Freddy x Jason'),\n",
              "  (0.20799159651347807, 'Star Trek'),\n",
              "  (0.18464218557642828, 'Norbit')],\n",
              " 'Freddy x Jason': [(0.4721359549995794, 'Norbit'),\n",
              "  (0.3761785115301142, 'Star Wars'),\n",
              "  (0.3567891723253309, 'O Ultimato Bourne'),\n",
              "  (0.3483314773547883, 'Star Trek'),\n",
              "  (0.2402530733520421, 'Exterminador do Futuro')],\n",
              " 'Norbit': [(0.4721359549995794, 'Freddy x Jason'),\n",
              "  (0.3761785115301142, 'Star Trek'),\n",
              "  (0.29429805508554946, 'Star Wars'),\n",
              "  (0.1886378647726465, 'O Ultimato Bourne'),\n",
              "  (0.18464218557642828, 'Exterminador do Futuro')],\n",
              " 'O Ultimato Bourne': [(0.3761785115301142, 'Exterminador do Futuro'),\n",
              "  (0.3567891723253309, 'Freddy x Jason'),\n",
              "  (0.3266316347104093, 'Star Wars'),\n",
              "  (0.32037724101704074, 'Star Trek'),\n",
              "  (0.1886378647726465, 'Norbit')],\n",
              " 'Star Trek': [(0.3761785115301142, 'Norbit'),\n",
              "  (0.3483314773547883, 'Freddy x Jason'),\n",
              "  (0.32037724101704074, 'O Ultimato Bourne'),\n",
              "  (0.2708131845707603, 'Star Wars'),\n",
              "  (0.20799159651347807, 'Exterminador do Futuro')],\n",
              " 'Star Wars': [(0.3761785115301142, 'Freddy x Jason'),\n",
              "  (0.3266316347104093, 'O Ultimato Bourne'),\n",
              "  (0.29429805508554946, 'Norbit'),\n",
              "  (0.27429188517743175, 'Exterminador do Futuro'),\n",
              "  (0.2708131845707603, 'Star Trek')]}"
            ]
          },
          "metadata": {
            "tags": []
          },
          "execution_count": 50
        }
      ]
    },
    {
      "cell_type": "code",
      "metadata": {
        "id": "Z2fI3XXQmEl_"
      },
      "source": [
        "# Função que dado um usuário e uma lista de similiaridades entre os filmes, retorna uma lista de itens/filmes \n",
        "# que o usuário não assistiu ordenado/rankeado por ordem dos filmes que o usuário daria a maior nota\n",
        "# Primeiro parâmetro - base de dados contendo os usuários e as notas que eles deram para cada filme assistido\n",
        "# Segundo parâmetro - lista de similaridade entre os itens\n",
        "# Terceiro parâmetro - O nome do usuário para o qual se deseja obter a recomendação de filmes não assistidos e que possivelmente ele mais vai gostar\n",
        "def getRecomendacoesItens(baseUsuario, similaridadeItens, usuario):\n",
        "  \n",
        "  notasUsuario = baseUsuario[usuario]\n",
        "  notas = {}\n",
        "  totalSimilaridade = {}\n",
        "\n",
        "  for (item, nota) in notasUsuario.items():\n",
        "    for (similaridade, item2) in similaridadeItens[item]:\n",
        "      if item2 in notasUsuario: continue\n",
        "      notas.setdefault(item2, 0)\n",
        "      notas[item2] += similaridade * nota\n",
        "      totalSimilaridade.setdefault(item2, 0)\n",
        "      totalSimilaridade[item2] += similaridade\n",
        "\n",
        "  rankings = [(score/totalSimilaridade[item], item) for item, score in notas.items()]\n",
        "  rankings.sort()\n",
        "  rankings.reverse()\n",
        "\n",
        "  return rankings"
      ],
      "execution_count": null,
      "outputs": []
    },
    {
      "cell_type": "markdown",
      "metadata": {
        "id": "VcIsHkIjrBKB"
      },
      "source": [
        "## Testando as duas abordagens de recomendação para o usuário Leonardo\n",
        "#### Recomendação baseada em usuário"
      ]
    },
    {
      "cell_type": "code",
      "metadata": {
        "id": "4Qywaj56p-81",
        "colab": {
          "base_uri": "https://localhost:8080/",
          "height": 68
        },
        "outputId": "9c75e1ce-fff8-45e9-eed8-d72bb3d5fdcf"
      },
      "source": [
        "getRecomendacoesUsuario(avaliacoesUsuarios, 'Leonardo')"
      ],
      "execution_count": null,
      "outputs": [
        {
          "output_type": "execute_result",
          "data": {
            "text/plain": [
              "[(3.457128694491423, 'Star Wars'),\n",
              " (2.778584003814924, 'Freddy x Jason'),\n",
              " (2.422482042361917, 'Star Trek')]"
            ]
          },
          "metadata": {
            "tags": []
          },
          "execution_count": 52
        }
      ]
    },
    {
      "cell_type": "markdown",
      "metadata": {
        "id": "7QcGt8HerpW8"
      },
      "source": [
        "#### Recomendação baseada em itens/filmes"
      ]
    },
    {
      "cell_type": "code",
      "metadata": {
        "id": "uWHneBNqrbtm",
        "colab": {
          "base_uri": "https://localhost:8080/",
          "height": 68
        },
        "outputId": "8baa7cf2-93ed-46fb-b305-b086a05c56f5"
      },
      "source": [
        "getRecomendacoesItens(avaliacoesUsuarios, itensSimilares, 'Leonardo')"
      ],
      "execution_count": null,
      "outputs": [
        {
          "output_type": "execute_result",
          "data": {
            "text/plain": [
              "[(3.1962008423190285, 'Star Wars'),\n",
              " (2.929467965289551, 'Star Trek'),\n",
              " (2.8420889258196413, 'Freddy x Jason')]"
            ]
          },
          "metadata": {
            "tags": []
          },
          "execution_count": 55
        }
      ]
    },
    {
      "cell_type": "code",
      "metadata": {
        "id": "54x9oc0Kr2G1"
      },
      "source": [
        ""
      ],
      "execution_count": null,
      "outputs": []
    }
  ]
}